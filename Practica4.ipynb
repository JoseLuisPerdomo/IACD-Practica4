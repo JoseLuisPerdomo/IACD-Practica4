{
 "cells": [
  {
   "cell_type": "code",
   "execution_count": 5,
   "id": "initial_id",
   "metadata": {
    "collapsed": true,
    "ExecuteTime": {
     "end_time": "2024-04-24T10:36:27.224926100Z",
     "start_time": "2024-04-24T10:36:26.769921900Z"
    }
   },
   "outputs": [],
   "source": [
    "from pgmpy.models import BayesianNetwork"
   ]
  },
  {
   "cell_type": "code",
   "outputs": [],
   "source": [
    "modelo_alarma = BayesianNetwork([(\"Robo\", \"Alarma\"), (\"Terremoto\", \"Alarma\"), (\"Alarma\", \"Juan_Llama\"), (\"Alarma\", \"Maria_Llama\")])"
   ],
   "metadata": {
    "collapsed": false,
    "ExecuteTime": {
     "end_time": "2024-04-24T10:36:27.805090500Z",
     "start_time": "2024-04-24T10:36:27.772389Z"
    }
   },
   "id": "49e628ffda54b571",
   "execution_count": 6
  },
  {
   "cell_type": "code",
   "outputs": [],
   "source": [
    "from pgmpy.factors.discrete import TabularCPD\n",
    "\n",
    "cpd_robo = TabularCPD(variable=\"Robo\", variable_card=2, values=[[0.999], [0.001]])\n",
    "cpd_terremoto = TabularCPD(variable=\"Terremoto\", variable_card=2, values=[[0.998], [0.002]])\n",
    "\n",
    "cpd_alarma = TabularCPD(variable=\"Alarma\", variable_card=2, values=[[0.999, 0.72, 0.06, 0.05], [0.001, 0.29, 0.94, 0.95]], evidence=[\"Robo\", \"Terremoto\"], evidence_card=[2, 2])\n",
    "\n",
    "cpd_juan_llama = TabularCPD(variable=\"Juan_Llama\", variable_card=2, values=[[0.9, 0.1], [0.1, 0.9]], evidence=[\"Alarma\"], evidence_card=[2])\n",
    "cpd_maria_llama = TabularCPD(variable=\"Maria_Llama\", variable_card=2, values=[[0.99, 0.3], [0.01, 0.7]], evidence=[\"Alarma\"], evidence_card=[2])"
   ],
   "metadata": {
    "collapsed": false,
    "ExecuteTime": {
     "end_time": "2024-04-24T10:36:28.375378Z",
     "start_time": "2024-04-24T10:36:28.369273Z"
    }
   },
   "id": "981c3df6f0d5dad5",
   "execution_count": 7
  },
  {
   "cell_type": "code",
   "outputs": [
    {
     "name": "stdout",
     "output_type": "stream",
     "text": [
      "+-----------+--------------+--------------+--------------+--------------+\n",
      "| Robo      | Robo(0)      | Robo(0)      | Robo(1)      | Robo(1)      |\n",
      "+-----------+--------------+--------------+--------------+--------------+\n",
      "| Terremoto | Terremoto(0) | Terremoto(1) | Terremoto(0) | Terremoto(1) |\n",
      "+-----------+--------------+--------------+--------------+--------------+\n",
      "| Alarma(0) | 0.999        | 0.72         | 0.06         | 0.05         |\n",
      "+-----------+--------------+--------------+--------------+--------------+\n",
      "| Alarma(1) | 0.001        | 0.29         | 0.94         | 0.95         |\n",
      "+-----------+--------------+--------------+--------------+--------------+\n"
     ]
    }
   ],
   "source": [
    "print(cpd_alarma)"
   ],
   "metadata": {
    "collapsed": false,
    "ExecuteTime": {
     "end_time": "2024-04-24T10:36:29.037971200Z",
     "start_time": "2024-04-24T10:36:29.010395300Z"
    }
   },
   "id": "13f47c90dcfea5d3",
   "execution_count": 8
  },
  {
   "cell_type": "code",
   "outputs": [],
   "source": [
    "modelo_alarma.add_cpds(cpd_robo, cpd_terremoto, cpd_alarma, cpd_juan_llama, cpd_maria_llama)"
   ],
   "metadata": {
    "collapsed": false,
    "ExecuteTime": {
     "end_time": "2024-04-24T10:36:29.656494300Z",
     "start_time": "2024-04-24T10:36:29.645152100Z"
    }
   },
   "id": "f50b0537be08ce35",
   "execution_count": 9
  },
  {
   "cell_type": "code",
   "outputs": [
    {
     "data": {
      "text/plain": "True"
     },
     "execution_count": 11,
     "metadata": {},
     "output_type": "execute_result"
    }
   ],
   "source": [
    "modelo_alarma.check_model()"
   ],
   "metadata": {
    "collapsed": false,
    "ExecuteTime": {
     "end_time": "2024-04-24T10:44:28.959128200Z",
     "start_time": "2024-04-24T10:44:28.935476900Z"
    }
   },
   "id": "a981edfd72af2355",
   "execution_count": 11
  },
  {
   "cell_type": "code",
   "outputs": [],
   "source": [],
   "metadata": {
    "collapsed": false
   },
   "id": "fb780ebba23095ab"
  }
 ],
 "metadata": {
  "kernelspec": {
   "display_name": "Python 3",
   "language": "python",
   "name": "python3"
  },
  "language_info": {
   "codemirror_mode": {
    "name": "ipython",
    "version": 2
   },
   "file_extension": ".py",
   "mimetype": "text/x-python",
   "name": "python",
   "nbconvert_exporter": "python",
   "pygments_lexer": "ipython2",
   "version": "2.7.6"
  }
 },
 "nbformat": 4,
 "nbformat_minor": 5
}
