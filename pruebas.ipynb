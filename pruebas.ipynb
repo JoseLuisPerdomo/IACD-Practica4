{
 "cells": [
  {
   "cell_type": "code",
   "execution_count": 2,
   "id": "b7ce345987a057b7",
   "metadata": {
    "collapsed": false,
    "ExecuteTime": {
     "end_time": "2024-05-04T16:58:58.114227Z",
     "start_time": "2024-05-04T16:58:58.105886Z"
    }
   },
   "outputs": [],
   "source": [
    "from pgmpy.models import BayesianNetwork\n",
    "import matplotlib.pyplot as plt\n",
    "import pandas"
   ]
  },
  {
   "cell_type": "code",
   "outputs": [],
   "source": [
    "modelo_alarma = BayesianNetwork(\n",
    "    [(\"Robo\", \"Alarma\"), (\"Terremoto\", \"Alarma\"), (\"Alarma\", \"Juan_Llama\"), (\"Alarma\", \"Maria_Llama\")])"
   ],
   "metadata": {
    "collapsed": false,
    "ExecuteTime": {
     "end_time": "2024-05-04T16:58:58.135524Z",
     "start_time": "2024-05-04T16:58:58.118082Z"
    }
   },
   "id": "84b66bb3449fa69",
   "execution_count": 3
  },
  {
   "cell_type": "code",
   "outputs": [],
   "source": [
    "from pgmpy.factors.discrete import TabularCPD\n",
    "\n",
    "cpd_robo = TabularCPD(variable=\"Robo\", variable_card=2, values=[[0.999], [0.001]])\n",
    "cpd_terremoto = TabularCPD(variable=\"Terremoto\", variable_card=2, values=[[0.998], [0.002]])\n",
    "\n",
    "cpd_alarma = TabularCPD(variable=\"Alarma\", variable_card=2,\n",
    "                        values=[[0.999, 0.72, 0.06, 0.05], [0.001, 0.29, 0.94, 0.95]], evidence=[\"Robo\", \"Terremoto\"],\n",
    "                        evidence_card=[2, 2])\n",
    "\n",
    "cpd_juan_llama = TabularCPD(variable=\"Juan_Llama\", variable_card=2, values=[[0.9, 0.1], [0.1, 0.9]],\n",
    "                            evidence=[\"Alarma\"], evidence_card=[2])\n",
    "cpd_maria_llama = TabularCPD(variable=\"Maria_Llama\", variable_card=2, values=[[0.99, 0.3], [0.01, 0.7]],\n",
    "                             evidence=[\"Alarma\"], evidence_card=[2])"
   ],
   "metadata": {
    "collapsed": false,
    "ExecuteTime": {
     "end_time": "2024-05-04T16:58:58.153372Z",
     "start_time": "2024-05-04T16:58:58.140662Z"
    }
   },
   "id": "d6f901c25889c42",
   "execution_count": 4
  },
  {
   "cell_type": "code",
   "outputs": [
    {
     "name": "stdout",
     "output_type": "stream",
     "text": [
      "+-----------+--------------+--------------+--------------+--------------+\n",
      "| Robo      | Robo(0)      | Robo(0)      | Robo(1)      | Robo(1)      |\n",
      "+-----------+--------------+--------------+--------------+--------------+\n",
      "| Terremoto | Terremoto(0) | Terremoto(1) | Terremoto(0) | Terremoto(1) |\n",
      "+-----------+--------------+--------------+--------------+--------------+\n",
      "| Alarma(0) | 0.999        | 0.72         | 0.06         | 0.05         |\n",
      "+-----------+--------------+--------------+--------------+--------------+\n",
      "| Alarma(1) | 0.001        | 0.29         | 0.94         | 0.95         |\n",
      "+-----------+--------------+--------------+--------------+--------------+\n"
     ]
    }
   ],
   "source": [
    "print(cpd_alarma)"
   ],
   "metadata": {
    "collapsed": false,
    "ExecuteTime": {
     "end_time": "2024-05-04T16:58:58.173197Z",
     "start_time": "2024-05-04T16:58:58.156792Z"
    }
   },
   "id": "8b3b1101df21e153",
   "execution_count": 5
  },
  {
   "cell_type": "code",
   "outputs": [],
   "source": [
    "modelo_alarma.add_cpds(cpd_robo, cpd_terremoto, cpd_alarma, cpd_juan_llama, cpd_maria_llama)"
   ],
   "metadata": {
    "collapsed": false,
    "ExecuteTime": {
     "end_time": "2024-05-04T16:58:58.188117Z",
     "start_time": "2024-05-04T16:58:58.177668Z"
    }
   },
   "id": "af34dcfe2bd3a4d6",
   "execution_count": 6
  },
  {
   "cell_type": "code",
   "outputs": [
    {
     "data": {
      "text/plain": "True"
     },
     "execution_count": 7,
     "metadata": {},
     "output_type": "execute_result"
    }
   ],
   "source": [
    "modelo_alarma.check_model()"
   ],
   "metadata": {
    "collapsed": true,
    "ExecuteTime": {
     "end_time": "2024-05-04T16:58:58.211987Z",
     "start_time": "2024-05-04T16:58:58.192782Z"
    }
   },
   "id": "initial_id",
   "execution_count": 7
  }
 ],
 "metadata": {
  "kernelspec": {
   "display_name": "Python 3",
   "language": "python",
   "name": "python3"
  },
  "language_info": {
   "codemirror_mode": {
    "name": "ipython",
    "version": 2
   },
   "file_extension": ".py",
   "mimetype": "text/x-python",
   "name": "python",
   "nbconvert_exporter": "python",
   "pygments_lexer": "ipython2",
   "version": "2.7.6"
  }
 },
 "nbformat": 4,
 "nbformat_minor": 5
}
